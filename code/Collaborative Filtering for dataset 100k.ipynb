{
 "cells": [
  {
   "cell_type": "markdown",
   "metadata": {},
   "source": []
  },
  {
   "cell_type": "markdown",
   "metadata": {},
   "source": [
    "### Dataset"
   ]
  },
  {
   "cell_type": "markdown",
   "metadata": {},
   "source": [
    "Use Movielens dataset 100k movie ratings from 943 users and 1682 movies"
   ]
  },
  {
   "cell_type": "code",
   "execution_count": 1,
   "metadata": {},
   "outputs": [],
   "source": [
    "import numpy as np\n",
    "import math\n",
    "import pandas as pd\n",
    "import time"
   ]
  },
  {
   "cell_type": "code",
   "execution_count": 2,
   "metadata": {},
   "outputs": [],
   "source": [
    "# Reading users file:\n",
    "user_cols = ['user_id', 'age', 'sex', 'occupation', 'zip_code']\n",
    "users = pd.read_csv('../data/ml-100k/u.user', sep='|', names=user_cols, encoding='latin-1')"
   ]
  },
  {
   "cell_type": "code",
   "execution_count": 3,
   "metadata": {},
   "outputs": [],
   "source": [
    "# Reading ratings file:\n",
    "rating_cols = ['user_id', 'movie_id', 'rating', 'unix_timestamp']\n",
    "ratings = pd.read_csv('../data/ml-100k/u.data', sep='\\t', names=rating_cols, encoding='latin-1')"
   ]
  },
  {
   "cell_type": "code",
   "execution_count": 4,
   "metadata": {},
   "outputs": [],
   "source": [
    "# Reading items file\n",
    "item_cols = ['movie_id', 'movie title', 'release data', 'video release date', 'IMDB URL', 'unknown', 'Action', 'Adventure', 'Animation', 'Children\\'s', 'Comedy', 'Crime', 'Documentary', 'Drame', 'Fantasy', 'Film-Noir', 'Horror',\n",
    "         'Musical', 'Mystery', 'Romance', 'Sci-Fi', 'Thriller', 'War', 'Western']\n",
    "items = pd.read_csv('../data/ml-100k/u.item', sep='|', names=item_cols, encoding='latin-1')"
   ]
  },
  {
   "cell_type": "code",
   "execution_count": 5,
   "metadata": {},
   "outputs": [
    {
     "name": "stdout",
     "output_type": "stream",
     "text": [
      "Kich thuoc bang users:  (943, 5)\n",
      "In 5 phan tu dau tien bang users:     user_id  age sex  occupation zip_code\n",
      "0        1   24   M  technician    85711\n",
      "1        2   53   F       other    94043\n",
      "2        3   23   M      writer    32067\n",
      "3        4   24   M  technician    43537\n",
      "4        5   33   F       other    15213\n"
     ]
    }
   ],
   "source": [
    "print(\"Kich thuoc bang users: \", (users.shape))\n",
    "print(\"In 5 phan tu dau tien bang users: \", users.head())"
   ]
  },
  {
   "cell_type": "code",
   "execution_count": 6,
   "metadata": {},
   "outputs": [
    {
     "name": "stdout",
     "output_type": "stream",
     "text": [
      "Kich thuoc bang ratings:  (100000, 4)\n",
      "In 5 phan tu dau tien bang ratings:     user_id  movie_id  rating  unix_timestamp\n",
      "0      196       242       3       881250949\n",
      "1      186       302       3       891717742\n",
      "2       22       377       1       878887116\n",
      "3      244        51       2       880606923\n",
      "4      166       346       1       886397596\n"
     ]
    }
   ],
   "source": [
    "print(\"Kich thuoc bang ratings: \", (ratings.shape))\n",
    "print(\"In 5 phan tu dau tien bang ratings: \", (ratings.head()))"
   ]
  },
  {
   "cell_type": "code",
   "execution_count": 7,
   "metadata": {},
   "outputs": [
    {
     "name": "stdout",
     "output_type": "stream",
     "text": [
      "Kich thuoc bang items:  (1682, 24)\n",
      "In 5 phan tu dau tien bang items:     movie_id        movie title release data  video release date  \\\n",
      "0         1   Toy Story (1995)  01-Jan-1995                 NaN   \n",
      "1         2   GoldenEye (1995)  01-Jan-1995                 NaN   \n",
      "2         3  Four Rooms (1995)  01-Jan-1995                 NaN   \n",
      "3         4  Get Shorty (1995)  01-Jan-1995                 NaN   \n",
      "4         5     Copycat (1995)  01-Jan-1995                 NaN   \n",
      "\n",
      "                                            IMDB URL  unknown  Action  \\\n",
      "0  http://us.imdb.com/M/title-exact?Toy%20Story%2...        0       0   \n",
      "1  http://us.imdb.com/M/title-exact?GoldenEye%20(...        0       1   \n",
      "2  http://us.imdb.com/M/title-exact?Four%20Rooms%...        0       0   \n",
      "3  http://us.imdb.com/M/title-exact?Get%20Shorty%...        0       1   \n",
      "4  http://us.imdb.com/M/title-exact?Copycat%20(1995)        0       0   \n",
      "\n",
      "   Adventure  Animation  Children's   ...     Fantasy  Film-Noir  Horror  \\\n",
      "0          0          1           1   ...           0          0       0   \n",
      "1          1          0           0   ...           0          0       0   \n",
      "2          0          0           0   ...           0          0       0   \n",
      "3          0          0           0   ...           0          0       0   \n",
      "4          0          0           0   ...           0          0       0   \n",
      "\n",
      "   Musical  Mystery  Romance  Sci-Fi  Thriller  War  Western  \n",
      "0        0        0        0       0         0    0        0  \n",
      "1        0        0        0       0         1    0        0  \n",
      "2        0        0        0       0         1    0        0  \n",
      "3        0        0        0       0         0    0        0  \n",
      "4        0        0        0       0         1    0        0  \n",
      "\n",
      "[5 rows x 24 columns]\n"
     ]
    }
   ],
   "source": [
    "print(\"Kich thuoc bang items: \", (items.shape))\n",
    "print(\"In 5 phan tu dau tien bang items: \", items.head())"
   ]
  },
  {
   "cell_type": "code",
   "execution_count": 8,
   "metadata": {},
   "outputs": [
    {
     "name": "stdout",
     "output_type": "stream",
     "text": [
      "So user la:  943\n",
      "So bo phim la:  1682\n"
     ]
    }
   ],
   "source": [
    "# dem so user va so item\n",
    "n_users = users.user_id.unique().shape[0]\n",
    "n_items = items.movie_id.unique().shape[0]\n",
    "print(\"So user la: \", (n_users))\n",
    "print(\"So bo phim la: \", (n_items))"
   ]
  },
  {
   "cell_type": "code",
   "execution_count": 9,
   "metadata": {},
   "outputs": [],
   "source": [
    "# Bộ dữ liệu đã chia Movielen 100k đã chia săn thành 5 bộ dữ liệu trai-test \n",
    "\n",
    "# u1.base    -- The data sets u1.base and u1.test through u5.base and u5.test\n",
    "# u1.test       are 80%/20% splits of the u data into training and test data.\n",
    "# u2.base       Each of u1, ..., u5 have disjoint test sets; this if for\n",
    "# u2.test       5 fold cross validation (where you repeat your experiment\n",
    "# u3.base       with each training and test set and average the results).\n",
    "# u3.test       These data sets can be generated from u.data by mku.sh.\n",
    "# u4.base\n",
    "# u4.test\n",
    "# u5.base\n",
    "# u5.test"
   ]
  },
  {
   "cell_type": "code",
   "execution_count": 10,
   "metadata": {},
   "outputs": [],
   "source": [
    "train_u1 = pd.read_csv('/home/damvantai/Documents/data/MovieLens/ml-100k/u1.base', sep='\\t', names=rating_cols, encoding='latin-1')\n",
    "train_u2 = pd.read_csv('/home/damvantai/Documents/data/MovieLens/ml-100k/u2.base', sep='\\t', names=rating_cols, encoding='latin-1')\n",
    "train_u3 = pd.read_csv('/home/damvantai/Documents/data/MovieLens/ml-100k/u3.base', sep='\\t', names=rating_cols, encoding='latin-1')\n",
    "train_u4 = pd.read_csv('/home/damvantai/Documents/data/MovieLens/ml-100k/u4.base', sep='\\t', names=rating_cols, encoding='latin-1')\n",
    "train_u5 = pd.read_csv('/home/damvantai/Documents/data/MovieLens/ml-100k/u5.base', sep='\\t', names=rating_cols, encoding='latin-1')"
   ]
  },
  {
   "cell_type": "code",
   "execution_count": 11,
   "metadata": {},
   "outputs": [],
   "source": [
    "test_u1 = pd.read_csv('/home/damvantai/Documents/data/MovieLens/ml-100k/u1.test', sep='\\t', names=rating_cols, encoding='latin-1')\n",
    "test_u2 = pd.read_csv('/home/damvantai/Documents/data/MovieLens/ml-100k/u2.test', sep='\\t', names=rating_cols, encoding='latin-1')\n",
    "test_u3 = pd.read_csv('/home/damvantai/Documents/data/MovieLens/ml-100k/u3.test', sep='\\t', names=rating_cols, encoding='latin-1')\n",
    "test_u4 = pd.read_csv('/home/damvantai/Documents/data/MovieLens/ml-100k/u4.test', sep='\\t', names=rating_cols, encoding='latin-1')\n",
    "test_u5 = pd.read_csv('/home/damvantai/Documents/data/MovieLens/ml-100k/u5.test', sep='\\t', names=rating_cols, encoding='latin-1')"
   ]
  },
  {
   "cell_type": "markdown",
   "metadata": {},
   "source": [
    "### Thực thi hệ thống lọc cộng tác dựa trên bộ nhớ sử dụng tính toán độ tương đồng cosine"
   ]
  },
  {
   "cell_type": "markdown",
   "metadata": {},
   "source": [
    "#### 1. Độ tương tự giữa các item trong lọc công tác dựa trên item-item được đo bằng đánh giá của tất cả users đã đánh giá cả hai items."
   ]
  },
  {
   "cell_type": "code",
   "execution_count": 12,
   "metadata": {},
   "outputs": [
    {
     "data": {
      "image/png": "[encoded data removed]",
      "text/plain": [
       "<IPython.core.display.Image object>"
      ]
     },
     "execution_count": 12,
     "metadata": {},
     "output_type": "execute_result"
    }
   ],
   "source": [
    "from IPython.display import Image\n",
    "Image(\"item-item.png\")"
   ]
  },
  {
   "cell_type": "markdown",
   "metadata": {},
   "source": [
    "#### 2. Còn độ tương tự trong hệ thống lọc cộng tác user-user giữa các user được đo bằng đánh giá trên các items của cả hai người sử dụng"
   ]
  },
  {
   "cell_type": "code",
   "execution_count": 13,
   "metadata": {},
   "outputs": [
    {
     "data": {
      "image/png": "[encoded data removed]",
      "text/plain": [
       "<IPython.core.display.Image object>"
      ]
     },
     "execution_count": 13,
     "metadata": {},
     "output_type": "execute_result"
    }
   ],
   "source": [
    "from IPython.display import Image\n",
    "Image(\"user-user.png\")"
   ]
  },
  {
   "cell_type": "markdown",
   "metadata": {},
   "source": [
    "### create matrix user-item rating"
   ]
  },
  {
   "cell_type": "code",
   "execution_count": 14,
   "metadata": {},
   "outputs": [],
   "source": [
    "# tạo ma trận user-item, một cho training và một cho testing cho bo du lieu 1\n",
    "train_matrix_u1 = np.zeros((n_users, n_items))\n",
    "for line in train_u1.itertuples():\n",
    "    # line[1]: user_id\n",
    "    # line[2]: movie_id\n",
    "    # line[3]: rating\n",
    "    train_matrix_u1[line[1]-1, line[2]-1] = line[3]\n",
    "    \n",
    "test_matrix_u1 = np.zeros((n_users, n_items))\n",
    "for line in test_u1.itertuples():\n",
    "    test_matrix_u1[line[1]-1, line[2]-1] = line[3]"
   ]
  },
  {
   "cell_type": "code",
   "execution_count": 15,
   "metadata": {},
   "outputs": [],
   "source": [
    "# tạo ma trận user-item, một cho training và một cho testing cho bo du lieu 2\n",
    "train_matrix_u2 = np.zeros((n_users, n_items))\n",
    "for line in train_u2.itertuples():\n",
    "    # line[1]: user_id\n",
    "    # line[2]: movie_id\n",
    "    # line[3]: rating\n",
    "    train_matrix_u2[line[1]-1, line[2]-1] = line[3]\n",
    "    \n",
    "test_matrix_u2 = np.zeros((n_users, n_items))\n",
    "for line in test_u2.itertuples():\n",
    "    test_matrix_u2[line[1]-1, line[2]-1] = line[3]\n",
    "\n",
    "# tạo ma trận user-item, một cho training và một cho testing cho bo du lieu 3\n",
    "train_matrix_u3 = np.zeros((n_users, n_items))\n",
    "for line in train_u3.itertuples():\n",
    "    # line[1]: user_id\n",
    "    # line[2]: movie_id\n",
    "    # line[3]: rating\n",
    "    train_matrix_u3[line[1]-1, line[2]-1] = line[3]\n",
    "    \n",
    "test_matrix_u3 = np.zeros((n_users, n_items))\n",
    "for line in test_u3.itertuples():\n",
    "    test_matrix_u3[line[1]-1, line[2]-1] = line[3]\n",
    "\n",
    "# tạo ma trận user-item, một cho training và một cho testing cho bo du lieu 4\n",
    "train_matrix_u4 = np.zeros((n_users, n_items))\n",
    "for line in train_u4.itertuples():\n",
    "    # line[1]: user_id\n",
    "    # line[2]: movie_id\n",
    "    # line[3]: rating\n",
    "    train_matrix_u4[line[1]-1, line[2]-1] = line[3]\n",
    "    \n",
    "test_matrix_u4 = np.zeros((n_users, n_items))\n",
    "for line in test_u4.itertuples():\n",
    "    test_matrix_u4[line[1]-1, line[2]-1] = line[3]\n",
    "\n",
    "# tạo ma trận user-item, một cho training và một cho testing cho bo du lieu 1\n",
    "train_matrix_u5 = np.zeros((n_users, n_items))\n",
    "for line in train_u5.itertuples():\n",
    "    # line[1]: user_id\n",
    "    # line[2]: movie_id\n",
    "    # line[3]: rating\n",
    "    train_matrix_u5[line[1]-1, line[2]-1] = line[3]\n",
    "    \n",
    "test_matrix_u5 = np.zeros((n_users, n_items))\n",
    "for line in test_u5.itertuples():\n",
    "    test_matrix_u5[line[1]-1, line[2]-1] = line[3]\n"
   ]
  },
  {
   "cell_type": "markdown",
   "metadata": {},
   "source": [
    "### Prediction and evaluate"
   ]
  },
  {
   "cell_type": "markdown",
   "metadata": {},
   "source": [
    "Build matrix "
   ]
  },
  {
   "cell_type": "code",
   "execution_count": 16,
   "metadata": {},
   "outputs": [],
   "source": [
    "# User function pairwise_distance calculate simarility item-item and user-user\n",
    "from sklearn.metrics.pairwise import pairwise_distances"
   ]
  },
  {
   "cell_type": "code",
   "execution_count": 16,
   "metadata": {},
   "outputs": [
    {
     "data": {
      "image/png": "[encoded data removed]",
      "text/plain": [
       "<IPython.core.display.Image object>"
      ]
     },
     "execution_count": 16,
     "metadata": {},
     "output_type": "execute_result"
    }
   ],
   "source": [
    "Image(\"user-user-s.png\")"
   ]
  },
  {
   "cell_type": "code",
   "execution_count": 17,
   "metadata": {},
   "outputs": [
    {
     "data": {
      "image/png": "[encoded data removed]",
      "text/plain": [
       "<IPython.core.display.Image object>"
      ]
     },
     "execution_count": 17,
     "metadata": {},
     "output_type": "execute_result"
    }
   ],
   "source": [
    "Image(\"item-item-s.png\")"
   ]
  },
  {
   "cell_type": "code",
   "execution_count": 18,
   "metadata": {
    "scrolled": true
   },
   "outputs": [],
   "source": [
    "# from IPython.core.interactiveshell import InteractiveShell\n",
    "# # InteractiveShell.ast_node_interactivity = \"all\"\n",
    "# InteractiveShell.ast_node_interactivity = \"last_expr\"\n",
    "\n",
    "# np.set_printoptions(threshold=np.nan)"
   ]
  },
  {
   "cell_type": "markdown",
   "metadata": {},
   "source": [
    "### Function predict to calculate matrix pred"
   ]
  },
  {
   "cell_type": "code",
   "execution_count": 27,
   "metadata": {
    "scrolled": true
   },
   "outputs": [],
   "source": [
    "def predict(ratings, category, metric):\n",
    "    \n",
    "    # user-user matrix similarity\n",
    "    if category == 'user':\n",
    "        \n",
    "        # Calculate matrix rating mean for user mean-user for rating item\n",
    "        mean_rating = np.zeros([943, 1])\n",
    "        for i in range(ratings.shape[0]):\n",
    "            sum = 0\n",
    "            num_elements = 0\n",
    "            for j in range(ratings.shape[1]):\n",
    "                if ratings[i][j] != 0:\n",
    "                    sum = sum + ratings[i][j]\n",
    "                    num_elements = num_elements + 1\n",
    "            mean_rating[i] = float(sum) / num_elements\n",
    "        \n",
    "        # Create matrix filled with mean rating from above\n",
    "        train_matrix_ratings_filled = np.array(ratings, copy=True)\n",
    "        for i in range(ratings.shape[0]):\n",
    "            for j in range(ratings.shape[1]):\n",
    "                if train_matrix_ratings_filled[i][j] == 0:\n",
    "                    train_matrix_ratings_filled[i][j] = mean_rating[i]\n",
    "                           \n",
    "        # Create matrix rating difference for matrix train filled and mean rating\n",
    "        rating_diff = train_matrix_ratings_filled - mean_rating\n",
    "        \n",
    "        # Metric similarity cosine or correlation\n",
    "        if metric == 'cosine':\n",
    "            similarity = 1 - pairwise_distances(rating_diff, metric='cosine')\n",
    "        elif metric == 'correlation':\n",
    "            similarity = 1 - pairwise_distances(rating_diff, metric='correlation')\n",
    "        \n",
    "        # Initialization matrix predict \n",
    "        pred = np.zeros([n_users, n_items])\n",
    "        \n",
    "        # Calculate even element of matrix predict \n",
    "        # if rate of element identify, element predict unchange\n",
    "        # else select 100 user similarity with user present and rating_diff != 0\n",
    "        for i in range(n_users):\n",
    "            for j in range(n_items):\n",
    "                if ratings[i][j] != 0:\n",
    "                    pred[i][j] = ratings[i][j]\n",
    "                else:\n",
    "#                     index_array_similarity_best = similarity[i].argsort()[-100:-1]\n",
    "                    index_array_similarity_best = [user for user in similarity[i].argsort()[-100:-1] if rating_diff[user][j] != 0]\n",
    "                    if (np.sum(similarity[i][index_array_similarity_best]) == 0):\n",
    "#                         index_item_similary_best = [user for user in similarity[0].argsort()[-1000:-1] if rating_diff[user][111] != 0]\n",
    "#                         pred[i][j] = np.sum(train_matrix_u1_filled.T[j])/n_items\n",
    "                        # tinh rating cua item theo rating trung binh cua cac nguoi su dungj trong bang train cho item\n",
    "#                         index_user_rating_item = np.nonzero(train_matrix_u1.[i])\n",
    "#                         pred[i][j] = np.sum(train_matrix_u1[i][index_user_rating_item]) / np.shape(index_user_rating_item)[1]\n",
    "                        pred[i][j] = mean_rating[i]\n",
    "                        continue\n",
    "                    pred[i][j] = similarity[i][index_array_similarity_best].dot(train_matrix_ratings_filled.T[j][index_array_similarity_best]) / np.sum(similarity[i][index_array_similarity_best])\n",
    "            \n",
    "        return pred\n",
    "\n",
    "    # item-item similarity matrix\n",
    "    elif category == 'item':\n",
    "        \n",
    "        # Initialization matrix mean for item mean for user\n",
    "        mean_rating = np.zeros([1682, 1])\n",
    "        \n",
    "        # Create matrix item mean rating\n",
    "        # except case a item don't have rate of user, default mean_rating of item equal 3\n",
    "        for i in range(train_matrix_u1.T.shape[0]):\n",
    "            sum = 0\n",
    "            num_elements = 0\n",
    "            for j in range(train_matrix_u1.T.shape[1]):\n",
    "                if train_matrix_u1.T[i][j] != 0:\n",
    "                    sum = sum + train_matrix_u1.T[i][j]\n",
    "                    num_elements = num_elements + 1\n",
    "            try:\n",
    "                mean_rating[i] = float(sum) / num_elements\n",
    "            except ZeroDivisionError:\n",
    "                mean_rating[i] = 3\n",
    "                \n",
    "        # Calculate train matrix rating filled \n",
    "        train_matrix_ratings_filled = np.array(train_matrix_u1.T, copy=True)\n",
    "        for i in range(train_matrix_u1.T.shape[0]):\n",
    "            for j in range(train_matrix_u1.T.shape[1]):\n",
    "                if train_matrix_ratings_filled[i][j] == 0:\n",
    "                    train_matrix_ratings_filled[i][j] = mean_rating[i]\n",
    "\n",
    "        # matran rating difference\n",
    "        rating_diff = train_matrix_ratings_filled - mean_rating\n",
    "        if metric == 'cosine':\n",
    "            item_similarity = 1 - pairwise_distances(rating_diff, metric='cosine')\n",
    "        elif metric == 'correlation':\n",
    "            item_similarity = 1 - pairwise_distances(rating_diff, metric='correlation')\n",
    "        #         rating_diff = np.zeros([943, 1682])\n",
    "\n",
    "        # Initialization matrix pred for item-item\n",
    "        pred = np.zeros([n_items, n_users])\n",
    "\n",
    "        # tinh toan ma tran pred theo cong thuc \n",
    "        for i in range(n_items):\n",
    "            for j in range(n_users):\n",
    "                if train_matrix_u1.T[i][j] != 0:\n",
    "                    pred[i][j] = train_matrix_u1.T[i][j]\n",
    "                else:\n",
    "                    index_array_similarity_best = [user for user in item_similarity[i].argsort()[-100:-1] if rating_diff[user][j] != 0]\n",
    "                    if (np.sum(item_similarity[i][index_array_similarity_best]) == 0):\n",
    "                        pred[i][j] = mean_rating[i]\n",
    "                        continue\n",
    "                    pred[i][j] = item_similarity[i][index_array_similarity_best].dot(train_matrix_ratings_filled.T[j][index_array_similarity_best]) / np.sum(item_similarity[i][index_array_similarity_best])\n",
    "    return pred.T"
   ]
  },
  {
   "cell_type": "markdown",
   "metadata": {},
   "source": [
    "### Create list matrix train and test"
   ]
  },
  {
   "cell_type": "code",
   "execution_count": 28,
   "metadata": {},
   "outputs": [],
   "source": [
    "train_list = [train_matrix_u1, train_matrix_u2, train_matrix_u3, train_matrix_u4, train_matrix_u5]"
   ]
  },
  {
   "cell_type": "code",
   "execution_count": 29,
   "metadata": {},
   "outputs": [],
   "source": [
    "test_list = [test_matrix_u1, test_matrix_u2, test_matrix_u3, test_matrix_u4, test_matrix_u5]"
   ]
  },
  {
   "cell_type": "code",
   "execution_count": 41,
   "metadata": {},
   "outputs": [],
   "source": [
    "MAE_item = np.zeros(5)\n",
    "MAE_user = np.zeros(5)\n",
    "RMSE_user = np.zeros(5)\n",
    "RMSE_item = np.zeros(5)\n",
    "RMSE_user_correlation = np.zeros(5)\n",
    "RMSE_item_correlation = np.zeros(5)"
   ]
  },
  {
   "cell_type": "markdown",
   "metadata": {},
   "source": [
    "### Function calculator error RMSE and MAE for element of matrix test"
   ]
  },
  {
   "cell_type": "code",
   "execution_count": 42,
   "metadata": {},
   "outputs": [],
   "source": [
    "from sklearn.metrics.pairwise import pairwise_distances"
   ]
  },
  {
   "cell_type": "code",
   "execution_count": 43,
   "metadata": {},
   "outputs": [],
   "source": [
    "from sklearn.metrics import mean_squared_error\n",
    "from math import sqrt\n",
    "def rmse(predict, actual):\n",
    "    predict = predict[actual.nonzero()].flatten()\n",
    "    actual = actual[actual.nonzero()].flatten()\n",
    "    return sqrt(mean_squared_error(predict, actual))"
   ]
  },
  {
   "cell_type": "code",
   "execution_count": 44,
   "metadata": {},
   "outputs": [],
   "source": [
    "from sklearn.metrics import mean_absolute_error\n",
    "def mae(predict, actual):\n",
    "    predict = predict[actual.nonzero()].flatten()\n",
    "    actual = actual[actual.nonzero()].flatten()\n",
    "    return (mean_absolute_error(predict, actual))"
   ]
  },
  {
   "cell_type": "markdown",
   "metadata": {},
   "source": [
    "### Test user similarity cosine"
   ]
  },
  {
   "cell_type": "code",
   "execution_count": 45,
   "metadata": {
    "scrolled": true
   },
   "outputs": [],
   "source": [
    "# Want show full matrix numpy in ipython notebook\n",
    "\n",
    "# from IPython.core.interactiveshell import InteractiveShell\n",
    "# InteractiveShell.ast_node_interactivity = \"all\"\n",
    "# # InteractiveShell.ast_node_interactivity = \"last_expr\"\n",
    "# np.set_printoptions(threshold=np.nan)"
   ]
  },
  {
   "cell_type": "markdown",
   "metadata": {},
   "source": [
    "### Run all train and test "
   ]
  },
  {
   "cell_type": "code",
   "execution_count": 46,
   "metadata": {},
   "outputs": [],
   "source": [
    "# matrix prediction user-user with similarity cosine\n",
    "user_prediction = np.zeros([5, 943, 1682])\n",
    "\n",
    "# matrix prediction item-item with similarity cosine\n",
    "item_prediction = np.zeros([5, 943, 1682])\n",
    "\n",
    "# matrix prediction item-item with similarity correlation\n",
    "user_prediction_correlation = np.zeros([5, 943, 1682])"
   ]
  },
  {
   "cell_type": "code",
   "execution_count": 47,
   "metadata": {
    "scrolled": true
   },
   "outputs": [
    {
     "name": "stdout",
     "output_type": "stream",
     "text": [
      "    1 0.79009779692157223 0.81416692777072541 1.0165458308483377 1.025932281021944 1.025932281021944\n",
      "\n",
      "    2   0.0 0.80644106435127183   0.0 1.0194260720767372 1.0194260720767372\n",
      "\n"
     ]
    },
    {
     "ename": "KeyboardInterrupt",
     "evalue": "",
     "output_type": "error",
     "traceback": [
      "\u001b[0;31m---------------------------------------------------------------------------\u001b[0m",
      "\u001b[0;31mKeyboardInterrupt\u001b[0m                         Traceback (most recent call last)",
      "\u001b[0;32m<ipython-input-47-95b3ad43729c>\u001b[0m in \u001b[0;36m<module>\u001b[0;34m()\u001b[0m\n\u001b[1;32m      5\u001b[0m \u001b[0;31m#     print(user_prediction)\u001b[0m\u001b[0;34m\u001b[0m\u001b[0;34m\u001b[0m\u001b[0m\n\u001b[1;32m      6\u001b[0m \u001b[0;34m\u001b[0m\u001b[0m\n\u001b[0;32m----> 7\u001b[0;31m     \u001b[0muser_prediction_correlation\u001b[0m\u001b[0;34m[\u001b[0m\u001b[0mi\u001b[0m\u001b[0;34m]\u001b[0m \u001b[0;34m=\u001b[0m \u001b[0mpredict\u001b[0m\u001b[0;34m(\u001b[0m\u001b[0mmatrix\u001b[0m\u001b[0;34m,\u001b[0m \u001b[0mcategory\u001b[0m\u001b[0;34m=\u001b[0m\u001b[0;34m'user'\u001b[0m\u001b[0;34m,\u001b[0m \u001b[0mmetric\u001b[0m\u001b[0;34m=\u001b[0m\u001b[0;34m'correlation'\u001b[0m\u001b[0;34m)\u001b[0m\u001b[0;34m\u001b[0m\u001b[0m\n\u001b[0m\u001b[1;32m      8\u001b[0m \u001b[0;31m#     item_prediction_correlation = predict(matrix, item_similarity_correlation, type='item')\u001b[0m\u001b[0;34m\u001b[0m\u001b[0;34m\u001b[0m\u001b[0m\n\u001b[1;32m      9\u001b[0m \u001b[0;34m\u001b[0m\u001b[0m\n",
      "\u001b[0;32m<ipython-input-27-8b75d5610c24>\u001b[0m in \u001b[0;36mpredict\u001b[0;34m(ratings, category, metric)\u001b[0m\n\u001b[1;32m     43\u001b[0m                 \u001b[0;32melse\u001b[0m\u001b[0;34m:\u001b[0m\u001b[0;34m\u001b[0m\u001b[0m\n\u001b[1;32m     44\u001b[0m \u001b[0;31m#                     index_array_similarity_best = similarity[i].argsort()[-100:-1]\u001b[0m\u001b[0;34m\u001b[0m\u001b[0;34m\u001b[0m\u001b[0m\n\u001b[0;32m---> 45\u001b[0;31m                     \u001b[0mindex_array_similarity_best\u001b[0m \u001b[0;34m=\u001b[0m \u001b[0;34m[\u001b[0m\u001b[0muser\u001b[0m \u001b[0;32mfor\u001b[0m \u001b[0muser\u001b[0m \u001b[0;32min\u001b[0m \u001b[0msimilarity\u001b[0m\u001b[0;34m[\u001b[0m\u001b[0mi\u001b[0m\u001b[0;34m]\u001b[0m\u001b[0;34m.\u001b[0m\u001b[0margsort\u001b[0m\u001b[0;34m(\u001b[0m\u001b[0;34m)\u001b[0m\u001b[0;34m[\u001b[0m\u001b[0;34m-\u001b[0m\u001b[0;36m100\u001b[0m\u001b[0;34m:\u001b[0m\u001b[0;34m-\u001b[0m\u001b[0;36m1\u001b[0m\u001b[0;34m]\u001b[0m \u001b[0;32mif\u001b[0m \u001b[0mrating_diff\u001b[0m\u001b[0;34m[\u001b[0m\u001b[0muser\u001b[0m\u001b[0;34m]\u001b[0m\u001b[0;34m[\u001b[0m\u001b[0mj\u001b[0m\u001b[0;34m]\u001b[0m \u001b[0;34m!=\u001b[0m \u001b[0;36m0\u001b[0m\u001b[0;34m]\u001b[0m\u001b[0;34m\u001b[0m\u001b[0m\n\u001b[0m\u001b[1;32m     46\u001b[0m                     \u001b[0;32mif\u001b[0m \u001b[0;34m(\u001b[0m\u001b[0mnp\u001b[0m\u001b[0;34m.\u001b[0m\u001b[0msum\u001b[0m\u001b[0;34m(\u001b[0m\u001b[0msimilarity\u001b[0m\u001b[0;34m[\u001b[0m\u001b[0mi\u001b[0m\u001b[0;34m]\u001b[0m\u001b[0;34m[\u001b[0m\u001b[0mindex_array_similarity_best\u001b[0m\u001b[0;34m]\u001b[0m\u001b[0;34m)\u001b[0m \u001b[0;34m==\u001b[0m \u001b[0;36m0\u001b[0m\u001b[0;34m)\u001b[0m\u001b[0;34m:\u001b[0m\u001b[0;34m\u001b[0m\u001b[0m\n\u001b[1;32m     47\u001b[0m \u001b[0;31m#                         index_item_similary_best = [user for user in similarity[0].argsort()[-1000:-1] if rating_diff[user][111] != 0]\u001b[0m\u001b[0;34m\u001b[0m\u001b[0;34m\u001b[0m\u001b[0m\n",
      "\u001b[0;31mKeyboardInterrupt\u001b[0m: "
     ]
    }
   ],
   "source": [
    "for i, matrix in enumerate(train_list):\n",
    "    user_prediction[i] = predict(matrix, category='user', metric='cosine')\n",
    "    item_prediction[i] = predict(matrix, category='item', metric='cosine')\n",
    "    \n",
    "#     print(user_prediction)\n",
    "\n",
    "    user_prediction_correlation[i] = predict(matrix, category='user', metric='correlation')\n",
    "#     item_prediction_correlation = predict(matrix, item_similarity_correlation, type='item')\n",
    "    \n",
    "    MAE_item[i] = mae(item_prediction[i], test_list[i])\n",
    "    MAE_user[i] = mae(user_prediction[i], test_list[i])\n",
    "    RMSE_item[i] = rmse(item_prediction[i], test_list[i])\n",
    "    RMSE_user[i] = rmse(user_prediction[i], test_list[i])\n",
    "    \n",
    "#     RMAE_item_correlation[i] = rmse(item_prediction_correlation, test_list[i])\n",
    "    RMSE_user_correlation[i] = rmse(user_prediction_correlation[i], test_list[i])\n",
    "    print(repr(i + 1).rjust(5), repr(MAE_item[i]).rjust(5), repr(MAE_user[i]).rjust(5), repr(RMSE_item[i]).rjust(5), repr(RMSE_user[i]).rjust(5), repr(RMSE_user_correlation[i]).rjust(5))\n",
    "    print()\n",
    "    "
   ]
  },
  {
   "cell_type": "code",
   "execution_count": null,
   "metadata": {},
   "outputs": [],
   "source": [
    "print(\"MAE trung binh cua loc cong tac tren user: \", np.mean(MAE_user))\n",
    "print(\"MAE trung binh cua loc cong tac tren item: \", np.mean(MAE_item))\n",
    "print(\"RMSE trung binh cua loc cong tac tren user: \", np.mean(RMSE_user))\n",
    "print(\"RMSE trung binh cua loc cong tac tren item: \", np.mean(RMSE_item))\n",
    "print(\"RMSE trung binh cua loc con tac tren user tinh do tuong dong bang correlation: \", np.mean(RMSE_user_correlation))"
   ]
  },
  {
   "cell_type": "code",
   "execution_count": null,
   "metadata": {
    "scrolled": true
   },
   "outputs": [],
   "source": [
    "print(RMSE_item)"
   ]
  },
  {
   "cell_type": "code",
   "execution_count": null,
   "metadata": {},
   "outputs": [],
   "source": [
    "print(RMSE_user)"
   ]
  },
  {
   "cell_type": "markdown",
   "metadata": {},
   "source": [
    "### Collaborative based model"
   ]
  },
  {
   "cell_type": "markdown",
   "metadata": {},
   "source": [
    "#### Approach SVD to find eigenvecto"
   ]
  },
  {
   "cell_type": "code",
   "execution_count": null,
   "metadata": {
    "scrolled": true
   },
   "outputs": [],
   "source": [
    "Image(\"svd.png\")"
   ]
  },
  {
   "cell_type": "code",
   "execution_count": null,
   "metadata": {},
   "outputs": [],
   "source": [
    "# tính độ thưa\n",
    "sparsity = round(1.0 - len(ratings)/float(n_users*n_items), 3)\n",
    "print(\"level sparise of dataset 100k: \" + str(sparsity*100) + \"%\")"
   ]
  },
  {
   "cell_type": "code",
   "execution_count": null,
   "metadata": {},
   "outputs": [],
   "source": [
    "# Du doan rating su dung SVD"
   ]
  },
  {
   "cell_type": "code",
   "execution_count": null,
   "metadata": {},
   "outputs": [],
   "source": [
    "import scipy.sparse as sp"
   ]
  },
  {
   "cell_type": "code",
   "execution_count": null,
   "metadata": {},
   "outputs": [],
   "source": [
    "from scipy.sparse.linalg import svds"
   ]
  },
  {
   "cell_type": "code",
   "execution_count": null,
   "metadata": {},
   "outputs": [],
   "source": [
    "RMSE_user = np.zeros(5)\n",
    "RMSE_k = np.zeros(20)\n",
    "test_k = np.linspace(5, 100, 20, dtype=int)\n",
    "for j, k in enumerate(test_k):\n",
    "    for i, matrix in enumerate(train_list):\n",
    "        u, s, vt = svds(matrix, k)\n",
    "#         print(s.shape)\n",
    "        s_diag_matrix = np.diag(s)\n",
    "        X_pred = np.dot(np.dot(u, s_diag_matrix), vt)\n",
    "        RMSE_user[i] = rmse(X_pred, test_list[i])\n",
    "    RMSE_k[j] = np.mean(RMSE_user)\n",
    "    print(\"User-based CF MSE with k = %d la %s\" % (k, np.mean(RMSE_user)))"
   ]
  },
  {
   "cell_type": "code",
   "execution_count": null,
   "metadata": {},
   "outputs": [],
   "source": []
  },
  {
   "cell_type": "code",
   "execution_count": null,
   "metadata": {},
   "outputs": [],
   "source": [
    "import  matplotlib.pyplot as plt"
   ]
  },
  {
   "cell_type": "code",
   "execution_count": null,
   "metadata": {},
   "outputs": [],
   "source": [
    "plt.xlabel(\"Number of singular values to compute\")\n",
    "plt.ylabel(\"error\")\n",
    "plt.plot(test_k, RMSE_k)\n",
    "plt.savefig(\"svd_error.jpg\")\n",
    "plt.show()"
   ]
  },
  {
   "cell_type": "code",
   "execution_count": null,
   "metadata": {},
   "outputs": [],
   "source": [
    "plt.savefig(\"svd_error.jpg\")"
   ]
  },
  {
   "cell_type": "code",
   "execution_count": null,
   "metadata": {},
   "outputs": [],
   "source": []
  }
 ],
 "metadata": {
  "kernelspec": {
   "display_name": "Python 2",
   "language": "python",
   "name": "python2"
  },
  "language_info": {
   "codemirror_mode": {
    "name": "ipython",
    "version": 3
   },
   "file_extension": ".py",
   "mimetype": "text/x-python",
   "name": "python",
   "nbconvert_exporter": "python",
   "pygments_lexer": "ipython3",
   "version": "3.5.2"
  }
 },
 "nbformat": 4,
 "nbformat_minor": 2
}
