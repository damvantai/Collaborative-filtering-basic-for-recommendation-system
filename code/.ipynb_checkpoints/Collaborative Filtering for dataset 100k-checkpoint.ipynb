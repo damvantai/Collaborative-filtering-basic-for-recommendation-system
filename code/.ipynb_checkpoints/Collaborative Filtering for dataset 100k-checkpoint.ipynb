{
 "cells": [
  {
   "cell_type": "markdown",
   "metadata": {},
   "source": []
  },
  {
   "cell_type": "markdown",
   "metadata": {},
   "source": [
    "### Dataset"
   ]
  },
  {
   "cell_type": "markdown",
   "metadata": {},
   "source": [
    "Use Movielens dataset 100k movie ratings from 943 users and 1682 movies"
   ]
  },
  {
   "cell_type": "code",
   "execution_count": 1,
   "metadata": {},
   "outputs": [],
   "source": [
    "import numpy as np\n",
    "import pandas as pd"
   ]
  },
  {
   "cell_type": "code",
   "execution_count": 4,
   "metadata": {},
   "outputs": [],
   "source": [
    "# Reading users file:\n",
    "user_cols = ['user_id', 'age', 'sex', 'occupation', 'zip_code']\n",
    "users = pd.read_csv('/home/damvantai/Documents/data/MovieLens/ml-100k/u.user', sep='|', names=user_cols, encoding='latin-1')"
   ]
  },
  {
   "cell_type": "code",
   "execution_count": 5,
   "metadata": {},
   "outputs": [],
   "source": [
    "# Reading ratings file:\n",
    "rating_cols = ['user_id', 'movie_id', 'rating', 'unix_timestamp']\n",
    "ratings = pd.read_csv('/home/damvantai/Documents/data/MovieLens/ml-100k/u.data', sep='\\t', names=rating_cols, encoding='latin-1')"
   ]
  },
  {
   "cell_type": "code",
   "execution_count": 15,
   "metadata": {},
   "outputs": [],
   "source": [
    "# Reading items file\n",
    "item_cols = ['movie_id', 'movie title', 'release data', 'video release date', 'IMDB URL', 'unknown', 'Action', 'Adventure', 'Animation', 'Children\\'s', 'Comedy', 'Crime', 'Documentary', 'Drame', 'Fantasy', 'Film-Noir', 'Horror',\n",
    "         'Musical', 'Mystery', 'Romance', 'Sci-Fi', 'Thriller', 'War', 'Western']\n",
    "items = pd.read_csv('/home/damvantai/Documents/data/MovieLens/ml-100k/u.item', sep='|', names=item_cols, encoding='latin-1')"
   ]
  },
  {
   "cell_type": "code",
   "execution_count": 8,
   "metadata": {},
   "outputs": [
    {
     "name": "stdout",
     "output_type": "stream",
     "text": [
      "('Kich thuoc bang user: ', (943, 5))\n",
      "('In 5 phan tu dau tien bang users: ',    user_id  age sex  occupation zip_code\n",
      "0        1   24   M  technician    85711\n",
      "1        2   53   F       other    94043\n",
      "2        3   23   M      writer    32067\n",
      "3        4   24   M  technician    43537\n",
      "4        5   33   F       other    15213)\n"
     ]
    }
   ],
   "source": [
    "print(\"Kich thuoc bang users: \", (users.shape))\n",
    "print(\"In 5 phan tu dau tien bang users: \", users.head())"
   ]
  },
  {
   "cell_type": "code",
   "execution_count": 9,
   "metadata": {},
   "outputs": [
    {
     "name": "stdout",
     "output_type": "stream",
     "text": [
      "('Kich thuoc bang ratings: ', (100000, 4))\n",
      "('In 5 phan tu dau tien bang ratings: ',    user_id  movie_id  rating  unix_timestamp\n",
      "0      196       242       3       881250949\n",
      "1      186       302       3       891717742\n",
      "2       22       377       1       878887116\n",
      "3      244        51       2       880606923\n",
      "4      166       346       1       886397596)\n"
     ]
    }
   ],
   "source": [
    "print(\"Kich thuoc bang ratings: \", (ratings.shape))\n",
    "print(\"In 5 phan tu dau tien bang ratings: \", (ratings.head()))"
   ]
  },
  {
   "cell_type": "code",
   "execution_count": 10,
   "metadata": {},
   "outputs": [
    {
     "name": "stdout",
     "output_type": "stream",
     "text": [
      "('Kich thuoc bang items: ', (1682, 24))\n",
      "('In 5 phan tu dau tien bang items: ',    movie id        movie title release data  video release date  \\\n",
      "0         1   Toy Story (1995)  01-Jan-1995                 NaN   \n",
      "1         2   GoldenEye (1995)  01-Jan-1995                 NaN   \n",
      "2         3  Four Rooms (1995)  01-Jan-1995                 NaN   \n",
      "3         4  Get Shorty (1995)  01-Jan-1995                 NaN   \n",
      "4         5     Copycat (1995)  01-Jan-1995                 NaN   \n",
      "\n",
      "                                            IMDB URL  unknown  Action  \\\n",
      "0  http://us.imdb.com/M/title-exact?Toy%20Story%2...        0       0   \n",
      "1  http://us.imdb.com/M/title-exact?GoldenEye%20(...        0       1   \n",
      "2  http://us.imdb.com/M/title-exact?Four%20Rooms%...        0       0   \n",
      "3  http://us.imdb.com/M/title-exact?Get%20Shorty%...        0       1   \n",
      "4  http://us.imdb.com/M/title-exact?Copycat%20(1995)        0       0   \n",
      "\n",
      "   Adventure  Animation  Children's   ...     Fantasy  Film-Noir  Horror  \\\n",
      "0          0          1           1   ...           0          0       0   \n",
      "1          1          0           0   ...           0          0       0   \n",
      "2          0          0           0   ...           0          0       0   \n",
      "3          0          0           0   ...           0          0       0   \n",
      "4          0          0           0   ...           0          0       0   \n",
      "\n",
      "   Musical  Mystery  Romance  Sci-Fi  Thriller  War  Western  \n",
      "0        0        0        0       0         0    0        0  \n",
      "1        0        0        0       0         1    0        0  \n",
      "2        0        0        0       0         1    0        0  \n",
      "3        0        0        0       0         0    0        0  \n",
      "4        0        0        0       0         1    0        0  \n",
      "\n",
      "[5 rows x 24 columns])\n"
     ]
    }
   ],
   "source": [
    "print(\"Kich thuoc bang items: \", (items.shape))\n",
    "print(\"In 5 phan tu dau tien bang items: \", items.head())"
   ]
  },
  {
   "cell_type": "code",
   "execution_count": 16,
   "metadata": {},
   "outputs": [
    {
     "name": "stdout",
     "output_type": "stream",
     "text": [
      "('So user la: ', 943)\n",
      "('So bo phim la: ', 1682)\n"
     ]
    }
   ],
   "source": [
    "# dem so user va so item\n",
    "n_users = users.user_id.unique().shape[0]\n",
    "n_items = items.movie_id.unique().shape[0]\n",
    "print(\"So user la: \", (n_users))\n",
    "print(\"So bo phim la: \", (n_items))"
   ]
  },
  {
   "cell_type": "code",
   "execution_count": 11,
   "metadata": {},
   "outputs": [],
   "source": [
    "# Bộ dữ liệu đã chia Movielen 100k đã chia săn thành 5 bộ dữ liệu trai-test \n",
    "\n",
    "# u1.base    -- The data sets u1.base and u1.test through u5.base and u5.test\n",
    "# u1.test       are 80%/20% splits of the u data into training and test data.\n",
    "# u2.base       Each of u1, ..., u5 have disjoint test sets; this if for\n",
    "# u2.test       5 fold cross validation (where you repeat your experiment\n",
    "# u3.base       with each training and test set and average the results).\n",
    "# u3.test       These data sets can be generated from u.data by mku.sh.\n",
    "# u4.base\n",
    "# u4.test\n",
    "# u5.base\n",
    "# u5.test"
   ]
  },
  {
   "cell_type": "code",
   "execution_count": 22,
   "metadata": {},
   "outputs": [],
   "source": [
    "train_u1 = pd.read_csv('/home/damvantai/Documents/data/MovieLens/ml-100k/u1.base', sep='\\t', names=rating_cols, encoding='latin-1')\n",
    "train_u2 = pd.read_csv('/home/damvantai/Documents/data/MovieLens/ml-100k/u2.base', sep='\\t', names=rating_cols, encoding='latin-1')\n",
    "train_u3 = pd.read_csv('/home/damvantai/Documents/data/MovieLens/ml-100k/u3.base', sep='\\t', names=rating_cols, encoding='latin-1')\n",
    "train_u4 = pd.read_csv('/home/damvantai/Documents/data/MovieLens/ml-100k/u4.base', sep='\\t', names=rating_cols, encoding='latin-1')\n",
    "train_u5 = pd.read_csv('/home/damvantai/Documents/data/MovieLens/ml-100k/u5.base', sep='\\t', names=rating_cols, encoding='latin-1')"
   ]
  },
  {
   "cell_type": "code",
   "execution_count": 23,
   "metadata": {},
   "outputs": [],
   "source": [
    "test_u1 = pd.read_csv('/home/damvantai/Documents/data/MovieLens/ml-100k/u1.test', sep='\\t', names=rating_cols, encoding='latin-1')\n",
    "test_u2 = pd.read_csv('/home/damvantai/Documents/data/MovieLens/ml-100k/u2.test', sep='\\t', names=rating_cols, encoding='latin-1')\n",
    "test_u3 = pd.read_csv('/home/damvantai/Documents/data/MovieLens/ml-100k/u3.test', sep='\\t', names=rating_cols, encoding='latin-1')\n",
    "test_u4 = pd.read_csv('/home/damvantai/Documents/data/MovieLens/ml-100k/u4.test', sep='\\t', names=rating_cols, encoding='latin-1')\n",
    "test_u5 = pd.read_csv('/home/damvantai/Documents/data/MovieLens/ml-100k/u5.test', sep='\\t', names=rating_cols, encoding='latin-1')"
   ]
  },
  {
   "cell_type": "markdown",
   "metadata": {},
   "source": [
    "### Thực thi hệ thống lọc cộng tác dựa trên bộ nhớ sử dụng tính toán độ tương đồng cosine"
   ]
  },
  {
   "cell_type": "markdown",
   "metadata": {},
   "source": [
    "#### 1. Độ tương tự giữa các item trong lọc công tác dựa trên item-item được đo bằng đánh giá của tất cả users đã đánh giá cả hai items."
   ]
  },
  {
   "cell_type": "code",
   "execution_count": 12,
   "metadata": {},
   "outputs": [
    {
     "data": {
      "image/png": "[encoded data removed]",
      "text/plain": [
       "<IPython.core.display.Image object>"
      ]
     },
     "execution_count": 12,
     "metadata": {},
     "output_type": "execute_result"
    }
   ],
   "source": [
    "from IPython.display import Image\n",
    "Image(\"item-item.png\")"
   ]
  },
  {
   "cell_type": "markdown",
   "metadata": {},
   "source": [
    "#### 2. Còn độ tương tự trong hệ thống lọc cộng tác user-user giữa các user được đo bằng đánh giá trên các items của cả hai người sử dụng"
   ]
  },
  {
   "cell_type": "code",
   "execution_count": 14,
   "metadata": {},
   "outputs": [
    {
     "data": {
      "image/png": "[encoded data removed]",
      "text/plain": [
       "<IPython.core.display.Image object>"
      ]
     },
     "execution_count": 14,
     "metadata": {},
     "output_type": "execute_result"
    }
   ],
   "source": [
    "from IPython.display import Image\n",
    "Image(\"user-user.png\")"
   ]
  },
  {
   "cell_type": "code",
   "execution_count": 35,
   "metadata": {},
   "outputs": [],
   "source": [
    "# tạo ma trận user-item, một cho training và một cho testing cho bo du lieu 1\n",
    "train_matrix_u1 = np.zeros((n_users, n_items))\n",
    "for line in train_u1.itertuples():\n",
    "    # line[1]: user_id\n",
    "    # line[2]: movie_id\n",
    "    # line[3]: rating\n",
    "    train_matrix_u1[line[1]-1, line[2]-1] = line[3]\n",
    "    \n",
    "test_matrix_u1 = np.zeros((n_users, n_items))\n",
    "for line in test_u1.itertuples():\n",
    "    test_matrix_u1[line[1]-1, line[2]-1] = line[3]"
   ]
  },
  {
   "cell_type": "code",
   "execution_count": 34,
   "metadata": {},
   "outputs": [],
   "source": [
    "# tạo ma trận user-item, một cho training và một cho testing cho bo du lieu 2\n",
    "train_matrix_u2 = np.zeros((n_users, n_items))\n",
    "for line in train_u2.itertuples():\n",
    "    # line[1]: user_id\n",
    "    # line[2]: movie_id\n",
    "    # line[3]: rating\n",
    "    train_matrix_u2[line[1]-1, line[2]-1] = line[3]\n",
    "    \n",
    "test_matrix_u2 = np.zeros((n_users, n_items))\n",
    "for line in test_u2.itertuples():\n",
    "    test_matrix_u2[line[1]-1, line[2]-1] = line[3]\n",
    "\n",
    "# tạo ma trận user-item, một cho training và một cho testing cho bo du lieu 3\n",
    "train_matrix_u3 = np.zeros((n_users, n_items))\n",
    "for line in train_u3.itertuples():\n",
    "    # line[1]: user_id\n",
    "    # line[2]: movie_id\n",
    "    # line[3]: rating\n",
    "    train_matrix_u3[line[1]-1, line[2]-1] = line[3]\n",
    "    \n",
    "test_matrix_u3 = np.zeros((n_users, n_items))\n",
    "for line in test_u3.itertuples():\n",
    "    test_matrix_u3[line[1]-1, line[2]-1] = line[3]\n",
    "\n",
    "# tạo ma trận user-item, một cho training và một cho testing cho bo du lieu 4\n",
    "train_matrix_u4 = np.zeros((n_users, n_items))\n",
    "for line in train_u4.itertuples():\n",
    "    # line[1]: user_id\n",
    "    # line[2]: movie_id\n",
    "    # line[3]: rating\n",
    "    train_matrix_u4[line[1]-1, line[2]-1] = line[3]\n",
    "    \n",
    "test_matrix_u4 = np.zeros((n_users, n_items))\n",
    "for line in test_u4.itertuples():\n",
    "    test_matrix_u4[line[1]-1, line[2]-1] = line[3]\n",
    "\n",
    "# tạo ma trận user-item, một cho training và một cho testing cho bo du lieu 1\n",
    "train_matrix_u5 = np.zeros((n_users, n_items))\n",
    "for line in train_u5.itertuples():\n",
    "    # line[1]: user_id\n",
    "    # line[2]: movie_id\n",
    "    # line[3]: rating\n",
    "    train_matrix_u5[line[1]-1, line[2]-1] = line[3]\n",
    "    \n",
    "test_matrix_u5 = np.zeros((n_users, n_items))\n",
    "for line in test_u5.itertuples():\n",
    "    test_matrix_u5[line[1]-1, line[2]-1] = line[3]\n"
   ]
  },
  {
   "cell_type": "code",
   "execution_count": 57,
   "metadata": {},
   "outputs": [],
   "source": [
    "# Sử dụng hàm pairwise distance từ thư viện sklearn để tính độ tương đồng cosine. \n",
    "from sklearn.metrics.pairwise import pairwise_distances\n",
    "user_similarity = pairwise_distances(train_matrix_u1, metric='cosine')\n",
    "item_similarity = pairwise_distances(train_matrix_u1.T, metric='cosine')"
   ]
  },
  {
   "cell_type": "code",
   "execution_count": 58,
   "metadata": {},
   "outputs": [
    {
     "data": {
      "text/plain": [
       "(1682, 1682)"
      ]
     },
     "execution_count": 58,
     "metadata": {},
     "output_type": "execute_result"
    }
   ],
   "source": [
    "item_similarity.shape"
   ]
  },
  {
   "cell_type": "code",
   "execution_count": 59,
   "metadata": {},
   "outputs": [
    {
     "data": {
      "text/plain": [
       "(943, 943)"
      ]
     },
     "execution_count": 59,
     "metadata": {},
     "output_type": "execute_result"
    }
   ],
   "source": [
    "user_similarity.shape"
   ]
  },
  {
   "cell_type": "code",
   "execution_count": 137,
   "metadata": {},
   "outputs": [],
   "source": [
    "# Tính toán độ tương tự dựa trên correlation \n",
    "user_similarity_correlation = pairwise_distances(train_matrix_u1, metric='correlation')\n",
    "item_similarity_correlation = pairwise_distances(train_matrix_u1.T, metric='correlation')"
   ]
  },
  {
   "cell_type": "code",
   "execution_count": 138,
   "metadata": {},
   "outputs": [
    {
     "data": {
      "text/plain": [
       "(943,)"
      ]
     },
     "execution_count": 138,
     "metadata": {},
     "output_type": "execute_result"
    }
   ],
   "source": [
    "np.sum(user_similarity_correlation, axis=0).shape"
   ]
  },
  {
   "cell_type": "markdown",
   "metadata": {},
   "source": [
    "### Dư đoán và đáng giá"
   ]
  },
  {
   "cell_type": "markdown",
   "metadata": {},
   "source": [
    "Ta đã xây dựng được matran tương đồng: user_similarity và item_similarity được trên độ tương đồng cosine và correlation"
   ]
  },
  {
   "cell_type": "code",
   "execution_count": 139,
   "metadata": {},
   "outputs": [
    {
     "data": {
      "image/png": "[encoded data removed]",
      "text/plain": [
       "<IPython.core.display.Image object>"
      ]
     },
     "execution_count": 139,
     "metadata": {},
     "output_type": "execute_result"
    }
   ],
   "source": [
    "# Do một vài người có thể luôn luôn đưa rating cao \n",
    "# hoặc thấp cho tất cả các bộ phim. Ta phải chuẩn hóa \n",
    "# để tránh tình trạng kết quả đưa ra không chính xác. \n",
    "# Ví dụ 1 người luôn co 4 cho phim anh ta thích, 2 cho bộ\n",
    "# phim khong thích. Nhưng người khác lại cho 5 cho bộ\n",
    "# phim anh ta thích 3 cho bộ phim anh ta không thích\n",
    "Image(\"user-user-s.png\")"
   ]
  },
  {
   "cell_type": "code",
   "execution_count": 140,
   "metadata": {},
   "outputs": [
    {
     "data": {
      "image/png": "[encoded data removed]",
      "text/plain": [
       "<IPython.core.display.Image object>"
      ]
     },
     "execution_count": 140,
     "metadata": {},
     "output_type": "execute_result"
    }
   ],
   "source": [
    "# Riêng với lọc công tác dựa trên item -item thì ta không \n",
    "#cần chuẩn hóa. \n",
    "Image(\"item-item-s.png\")"
   ]
  },
  {
   "cell_type": "code",
   "execution_count": 141,
   "metadata": {},
   "outputs": [],
   "source": [
    "def predict(ratings, similarity, type='user'):\n",
    "    if type == 'user':\n",
    "        mean_user_rating = ratings.mean(axis=1)\n",
    "        ratings_diff = (ratings - mean_user_rating[:, np.newaxis])\n",
    "        pred = mean_user_rating[:, np.newaxis] + similarity.dot(ratings_diff)/np.array([np.abs(similarity).sum(axis=1)]).T\n",
    "    elif type == 'item':\n",
    "        pred = ratings.dot(similarity) / np.array([np.abs(similarity).sum(axis=1)])\n",
    "        \n",
    "    return pred"
   ]
  },
  {
   "cell_type": "code",
   "execution_count": 142,
   "metadata": {},
   "outputs": [],
   "source": [
    "train_list = [train_matrix_u1, train_matrix_u2, train_matrix_u3, train_matrix_u4, train_matrix_u5]"
   ]
  },
  {
   "cell_type": "code",
   "execution_count": 143,
   "metadata": {},
   "outputs": [],
   "source": [
    "test_list = [test_matrix_u1, test_matrix_u2, test_matrix_u3, test_matrix_u4, test_matrix_u5]"
   ]
  },
  {
   "cell_type": "code",
   "execution_count": 158,
   "metadata": {},
   "outputs": [],
   "source": [
    "MAE_item = np.zeros(5)\n",
    "MAE_user = np.zeros(5)\n",
    "RMSE_user = np.zeros(5)\n",
    "RMSE_item = np.zeros(5)\n",
    "RMSE_user_correlation = np.zeros(5)\n",
    "RMSE_item_correlation = np.zeros(5)"
   ]
  },
  {
   "cell_type": "code",
   "execution_count": 159,
   "metadata": {},
   "outputs": [
    {
     "data": {
      "text/plain": [
       "array([ 0.,  0.,  0.,  0.,  0.])"
      ]
     },
     "execution_count": 159,
     "metadata": {},
     "output_type": "execute_result"
    }
   ],
   "source": [
    "MAE_item"
   ]
  },
  {
   "cell_type": "code",
   "execution_count": 160,
   "metadata": {},
   "outputs": [],
   "source": [
    "from sklearn.metrics import mean_squared_error\n",
    "from math import sqrt\n",
    "def rmse(predict, actual):\n",
    "    predict = predict[actual.nonzero()].flatten()\n",
    "    actual = actual[actual.nonzero()].flatten()\n",
    "    return sqrt(mean_squared_error(predict, actual))"
   ]
  },
  {
   "cell_type": "code",
   "execution_count": 161,
   "metadata": {},
   "outputs": [],
   "source": [
    "from sklearn.metrics import mean_absolute_error\n",
    "def mae(predict, actual):\n",
    "    predict = predict[actual.nonzero()].flatten()\n",
    "    actual = actual[actual.nonzero()].flatten()\n",
    "    return (mean_squared_error(predict, actual))"
   ]
  },
  {
   "cell_type": "code",
   "execution_count": 162,
   "metadata": {},
   "outputs": [],
   "source": [
    "for i, matrix in enumerate(train_list):\n",
    "    user_prediction = predict(matrix, user_similarity, type='user')\n",
    "    item_prediction = predict(matrix, item_similarity, type='item')\n",
    "    user_prediction_correlation = predict(matrix, user_similarity_correlation, type='user')\n",
    "    item_prediction_correlation = predict(matrix, item_similarity_correlation, type='item')\n",
    "    MAE_item[i] = mae(item_prediction, test_list[i])\n",
    "    MAE_user[i] = mae(user_prediction, test_list[i])\n",
    "    RMSE_item[i] = rmse(item_prediction, test_list[i])\n",
    "    RMSE_user[i] = rmse(user_prediction, test_list[i])\n",
    "#     RMAE_item_correlation[i] = rmse(item_prediction_correlation, test_list[i])\n",
    "    RMSE_user_correlation[i] = rmse(user_prediction_correlation, test_list[i])"
   ]
  },
  {
   "cell_type": "code",
   "execution_count": 164,
   "metadata": {},
   "outputs": [
    {
     "name": "stdout",
     "output_type": "stream",
     "text": [
      "('MAE trung binh cua loc cong tac tren user: ', 9.8431591779848979)\n",
      "('MAE trung binh cua loc cong tac tren item: ', 12.120490850044913)\n",
      "('RMSE trung binh cua loc cong tac tren user: ', 3.1372981324603728)\n",
      "('RMSE trung binh cua loc cong tac tren item: ', 3.4813942941930449)\n"
     ]
    }
   ],
   "source": [
    "print(\"MAE trung binh cua loc cong tac tren user: \", np.mean(MAE_user))\n",
    "print(\"MAE trung binh cua loc cong tac tren item: \", np.mean(MAE_item))\n",
    "print(\"RMSE trung binh cua loc cong tac tren user: \", np.mean(RMSE_user))\n",
    "print(\"RMSE trung binh cua loc cong tac tren item: \", np.mean(RMSE_item))\n",
    "                                                                 "
   ]
  },
  {
   "cell_type": "code",
   "execution_count": 151,
   "metadata": {},
   "outputs": [
    {
     "data": {
      "text/plain": [
       "array([[ 0.        ,  0.64235362,  0.69061028, ...,  1.        ,\n",
       "         0.94896481,  0.94896481],\n",
       "       [ 0.64235362,  0.        ,  0.77839991, ...,  1.        ,\n",
       "         0.91221914,  0.91221914],\n",
       "       [ 0.69061028,  0.77839991,  0.        , ...,  1.        ,\n",
       "         1.        ,  0.89333228],\n",
       "       ..., \n",
       "       [ 1.        ,  1.        ,  1.        , ...,  0.        ,\n",
       "         1.        ,  1.        ],\n",
       "       [ 0.94896481,  0.91221914,  1.        , ...,  1.        ,\n",
       "         0.        ,  1.        ],\n",
       "       [ 0.94896481,  0.91221914,  0.89333228, ...,  1.        ,\n",
       "         1.        ,  0.        ]])"
      ]
     },
     "execution_count": 151,
     "metadata": {},
     "output_type": "execute_result"
    }
   ],
   "source": [
    "item_similarity"
   ]
  },
  {
   "cell_type": "code",
   "execution_count": null,
   "metadata": {},
   "outputs": [],
   "source": []
  },
  {
   "cell_type": "code",
   "execution_count": null,
   "metadata": {},
   "outputs": [],
   "source": []
  },
  {
   "cell_type": "code",
   "execution_count": null,
   "metadata": {},
   "outputs": [],
   "source": []
  },
  {
   "cell_type": "code",
   "execution_count": null,
   "metadata": {},
   "outputs": [],
   "source": []
  },
  {
   "cell_type": "code",
   "execution_count": null,
   "metadata": {},
   "outputs": [],
   "source": []
  },
  {
   "cell_type": "code",
   "execution_count": null,
   "metadata": {},
   "outputs": [],
   "source": []
  },
  {
   "cell_type": "code",
   "execution_count": null,
   "metadata": {},
   "outputs": [],
   "source": []
  },
  {
   "cell_type": "code",
   "execution_count": null,
   "metadata": {},
   "outputs": [],
   "source": []
  },
  {
   "cell_type": "code",
   "execution_count": null,
   "metadata": {},
   "outputs": [],
   "source": []
  },
  {
   "cell_type": "code",
   "execution_count": null,
   "metadata": {},
   "outputs": [],
   "source": []
  }
 ],
 "metadata": {
  "kernelspec": {
   "display_name": "Python 2",
   "language": "python",
   "name": "python2"
  },
  "language_info": {
   "codemirror_mode": {
    "name": "ipython",
    "version": 2
   },
   "file_extension": ".py",
   "mimetype": "text/x-python",
   "name": "python",
   "nbconvert_exporter": "python",
   "pygments_lexer": "ipython2",
   "version": "2.7.12"
  }
 },
 "nbformat": 4,
 "nbformat_minor": 2
}
